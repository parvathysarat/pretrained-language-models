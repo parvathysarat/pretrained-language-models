{
  "nbformat": 4,
  "nbformat_minor": 0,
  "metadata": {
    "colab": {
      "name": "BERT_QA.ipynb",
      "provenance": [],
      "collapsed_sections": [],
      "authorship_tag": "ABX9TyPIRSmfQk8WqzypGcQTQmp7",
      "include_colab_link": true
    },
    "kernelspec": {
      "name": "python3",
      "display_name": "Python 3"
    },
    "widgets": {
      "application/vnd.jupyter.widget-state+json": {
        "e3f6e09da82446309a89cd333a9f40f5": {
          "model_module": "@jupyter-widgets/controls",
          "model_name": "HBoxModel",
          "state": {
            "_view_name": "HBoxView",
            "_dom_classes": [],
            "_model_name": "HBoxModel",
            "_view_module": "@jupyter-widgets/controls",
            "_model_module_version": "1.5.0",
            "_view_count": null,
            "_view_module_version": "1.5.0",
            "box_style": "",
            "layout": "IPY_MODEL_22d357ddaa224d29bb731eb2a7848bc7",
            "_model_module": "@jupyter-widgets/controls",
            "children": [
              "IPY_MODEL_cf67a597fc46493da7042328c31105fd",
              "IPY_MODEL_a8892a2e0bfe4975a4ecdda21cf5fea2"
            ]
          }
        },
        "22d357ddaa224d29bb731eb2a7848bc7": {
          "model_module": "@jupyter-widgets/base",
          "model_name": "LayoutModel",
          "state": {
            "_view_name": "LayoutView",
            "grid_template_rows": null,
            "right": null,
            "justify_content": null,
            "_view_module": "@jupyter-widgets/base",
            "overflow": null,
            "_model_module_version": "1.2.0",
            "_view_count": null,
            "flex_flow": null,
            "width": null,
            "min_width": null,
            "border": null,
            "align_items": null,
            "bottom": null,
            "_model_module": "@jupyter-widgets/base",
            "top": null,
            "grid_column": null,
            "overflow_y": null,
            "overflow_x": null,
            "grid_auto_flow": null,
            "grid_area": null,
            "grid_template_columns": null,
            "flex": null,
            "_model_name": "LayoutModel",
            "justify_items": null,
            "grid_row": null,
            "max_height": null,
            "align_content": null,
            "visibility": null,
            "align_self": null,
            "height": null,
            "min_height": null,
            "padding": null,
            "grid_auto_rows": null,
            "grid_gap": null,
            "max_width": null,
            "order": null,
            "_view_module_version": "1.2.0",
            "grid_template_areas": null,
            "object_position": null,
            "object_fit": null,
            "grid_auto_columns": null,
            "margin": null,
            "display": null,
            "left": null
          }
        },
        "cf67a597fc46493da7042328c31105fd": {
          "model_module": "@jupyter-widgets/controls",
          "model_name": "FloatProgressModel",
          "state": {
            "_view_name": "ProgressView",
            "style": "IPY_MODEL_73b9ab6029bb455d86776fa35246c412",
            "_dom_classes": [],
            "description": "Downloading: 100%",
            "_model_name": "FloatProgressModel",
            "bar_style": "success",
            "max": 443,
            "_view_module": "@jupyter-widgets/controls",
            "_model_module_version": "1.5.0",
            "value": 443,
            "_view_count": null,
            "_view_module_version": "1.5.0",
            "orientation": "horizontal",
            "min": 0,
            "description_tooltip": null,
            "_model_module": "@jupyter-widgets/controls",
            "layout": "IPY_MODEL_4271d5d657a34f9887c5000167fa0999"
          }
        },
        "a8892a2e0bfe4975a4ecdda21cf5fea2": {
          "model_module": "@jupyter-widgets/controls",
          "model_name": "HTMLModel",
          "state": {
            "_view_name": "HTMLView",
            "style": "IPY_MODEL_0a1696dbef6f4deaab93589560b4c82f",
            "_dom_classes": [],
            "description": "",
            "_model_name": "HTMLModel",
            "placeholder": "​",
            "_view_module": "@jupyter-widgets/controls",
            "_model_module_version": "1.5.0",
            "value": " 443/443 [00:00&lt;00:00, 1.08kB/s]",
            "_view_count": null,
            "_view_module_version": "1.5.0",
            "description_tooltip": null,
            "_model_module": "@jupyter-widgets/controls",
            "layout": "IPY_MODEL_52f8ab11e6744e8295e6b2d80274db8e"
          }
        },
        "73b9ab6029bb455d86776fa35246c412": {
          "model_module": "@jupyter-widgets/controls",
          "model_name": "ProgressStyleModel",
          "state": {
            "_view_name": "StyleView",
            "_model_name": "ProgressStyleModel",
            "description_width": "initial",
            "_view_module": "@jupyter-widgets/base",
            "_model_module_version": "1.5.0",
            "_view_count": null,
            "_view_module_version": "1.2.0",
            "bar_color": null,
            "_model_module": "@jupyter-widgets/controls"
          }
        },
        "4271d5d657a34f9887c5000167fa0999": {
          "model_module": "@jupyter-widgets/base",
          "model_name": "LayoutModel",
          "state": {
            "_view_name": "LayoutView",
            "grid_template_rows": null,
            "right": null,
            "justify_content": null,
            "_view_module": "@jupyter-widgets/base",
            "overflow": null,
            "_model_module_version": "1.2.0",
            "_view_count": null,
            "flex_flow": null,
            "width": null,
            "min_width": null,
            "border": null,
            "align_items": null,
            "bottom": null,
            "_model_module": "@jupyter-widgets/base",
            "top": null,
            "grid_column": null,
            "overflow_y": null,
            "overflow_x": null,
            "grid_auto_flow": null,
            "grid_area": null,
            "grid_template_columns": null,
            "flex": null,
            "_model_name": "LayoutModel",
            "justify_items": null,
            "grid_row": null,
            "max_height": null,
            "align_content": null,
            "visibility": null,
            "align_self": null,
            "height": null,
            "min_height": null,
            "padding": null,
            "grid_auto_rows": null,
            "grid_gap": null,
            "max_width": null,
            "order": null,
            "_view_module_version": "1.2.0",
            "grid_template_areas": null,
            "object_position": null,
            "object_fit": null,
            "grid_auto_columns": null,
            "margin": null,
            "display": null,
            "left": null
          }
        },
        "0a1696dbef6f4deaab93589560b4c82f": {
          "model_module": "@jupyter-widgets/controls",
          "model_name": "DescriptionStyleModel",
          "state": {
            "_view_name": "StyleView",
            "_model_name": "DescriptionStyleModel",
            "description_width": "",
            "_view_module": "@jupyter-widgets/base",
            "_model_module_version": "1.5.0",
            "_view_count": null,
            "_view_module_version": "1.2.0",
            "_model_module": "@jupyter-widgets/controls"
          }
        },
        "52f8ab11e6744e8295e6b2d80274db8e": {
          "model_module": "@jupyter-widgets/base",
          "model_name": "LayoutModel",
          "state": {
            "_view_name": "LayoutView",
            "grid_template_rows": null,
            "right": null,
            "justify_content": null,
            "_view_module": "@jupyter-widgets/base",
            "overflow": null,
            "_model_module_version": "1.2.0",
            "_view_count": null,
            "flex_flow": null,
            "width": null,
            "min_width": null,
            "border": null,
            "align_items": null,
            "bottom": null,
            "_model_module": "@jupyter-widgets/base",
            "top": null,
            "grid_column": null,
            "overflow_y": null,
            "overflow_x": null,
            "grid_auto_flow": null,
            "grid_area": null,
            "grid_template_columns": null,
            "flex": null,
            "_model_name": "LayoutModel",
            "justify_items": null,
            "grid_row": null,
            "max_height": null,
            "align_content": null,
            "visibility": null,
            "align_self": null,
            "height": null,
            "min_height": null,
            "padding": null,
            "grid_auto_rows": null,
            "grid_gap": null,
            "max_width": null,
            "order": null,
            "_view_module_version": "1.2.0",
            "grid_template_areas": null,
            "object_position": null,
            "object_fit": null,
            "grid_auto_columns": null,
            "margin": null,
            "display": null,
            "left": null
          }
        },
        "1cac3bf1fa24467f80b4a360eae486d7": {
          "model_module": "@jupyter-widgets/controls",
          "model_name": "HBoxModel",
          "state": {
            "_view_name": "HBoxView",
            "_dom_classes": [],
            "_model_name": "HBoxModel",
            "_view_module": "@jupyter-widgets/controls",
            "_model_module_version": "1.5.0",
            "_view_count": null,
            "_view_module_version": "1.5.0",
            "box_style": "",
            "layout": "IPY_MODEL_5e39bae8a6214001b12ec958a6ea78d4",
            "_model_module": "@jupyter-widgets/controls",
            "children": [
              "IPY_MODEL_529d03e105d94b0fab8c7e0663e6b6d2",
              "IPY_MODEL_5b1f1c81be3c4cd7bcefbdd714cd23cc"
            ]
          }
        },
        "5e39bae8a6214001b12ec958a6ea78d4": {
          "model_module": "@jupyter-widgets/base",
          "model_name": "LayoutModel",
          "state": {
            "_view_name": "LayoutView",
            "grid_template_rows": null,
            "right": null,
            "justify_content": null,
            "_view_module": "@jupyter-widgets/base",
            "overflow": null,
            "_model_module_version": "1.2.0",
            "_view_count": null,
            "flex_flow": null,
            "width": null,
            "min_width": null,
            "border": null,
            "align_items": null,
            "bottom": null,
            "_model_module": "@jupyter-widgets/base",
            "top": null,
            "grid_column": null,
            "overflow_y": null,
            "overflow_x": null,
            "grid_auto_flow": null,
            "grid_area": null,
            "grid_template_columns": null,
            "flex": null,
            "_model_name": "LayoutModel",
            "justify_items": null,
            "grid_row": null,
            "max_height": null,
            "align_content": null,
            "visibility": null,
            "align_self": null,
            "height": null,
            "min_height": null,
            "padding": null,
            "grid_auto_rows": null,
            "grid_gap": null,
            "max_width": null,
            "order": null,
            "_view_module_version": "1.2.0",
            "grid_template_areas": null,
            "object_position": null,
            "object_fit": null,
            "grid_auto_columns": null,
            "margin": null,
            "display": null,
            "left": null
          }
        },
        "529d03e105d94b0fab8c7e0663e6b6d2": {
          "model_module": "@jupyter-widgets/controls",
          "model_name": "FloatProgressModel",
          "state": {
            "_view_name": "ProgressView",
            "style": "IPY_MODEL_391109ed29064c5b85b3630cec136182",
            "_dom_classes": [],
            "description": "Downloading: 100%",
            "_model_name": "FloatProgressModel",
            "bar_style": "success",
            "max": 1340675298,
            "_view_module": "@jupyter-widgets/controls",
            "_model_module_version": "1.5.0",
            "value": 1340675298,
            "_view_count": null,
            "_view_module_version": "1.5.0",
            "orientation": "horizontal",
            "min": 0,
            "description_tooltip": null,
            "_model_module": "@jupyter-widgets/controls",
            "layout": "IPY_MODEL_6a15708df9c241609e55e97bdcfdfe99"
          }
        },
        "5b1f1c81be3c4cd7bcefbdd714cd23cc": {
          "model_module": "@jupyter-widgets/controls",
          "model_name": "HTMLModel",
          "state": {
            "_view_name": "HTMLView",
            "style": "IPY_MODEL_87d7f13570114f17ac0d2fbf5c734670",
            "_dom_classes": [],
            "description": "",
            "_model_name": "HTMLModel",
            "placeholder": "​",
            "_view_module": "@jupyter-widgets/controls",
            "_model_module_version": "1.5.0",
            "value": " 1.34G/1.34G [00:50&lt;00:00, 26.3MB/s]",
            "_view_count": null,
            "_view_module_version": "1.5.0",
            "description_tooltip": null,
            "_model_module": "@jupyter-widgets/controls",
            "layout": "IPY_MODEL_fbf2efc115fe46ba9facd25cbd593dba"
          }
        },
        "391109ed29064c5b85b3630cec136182": {
          "model_module": "@jupyter-widgets/controls",
          "model_name": "ProgressStyleModel",
          "state": {
            "_view_name": "StyleView",
            "_model_name": "ProgressStyleModel",
            "description_width": "initial",
            "_view_module": "@jupyter-widgets/base",
            "_model_module_version": "1.5.0",
            "_view_count": null,
            "_view_module_version": "1.2.0",
            "bar_color": null,
            "_model_module": "@jupyter-widgets/controls"
          }
        },
        "6a15708df9c241609e55e97bdcfdfe99": {
          "model_module": "@jupyter-widgets/base",
          "model_name": "LayoutModel",
          "state": {
            "_view_name": "LayoutView",
            "grid_template_rows": null,
            "right": null,
            "justify_content": null,
            "_view_module": "@jupyter-widgets/base",
            "overflow": null,
            "_model_module_version": "1.2.0",
            "_view_count": null,
            "flex_flow": null,
            "width": null,
            "min_width": null,
            "border": null,
            "align_items": null,
            "bottom": null,
            "_model_module": "@jupyter-widgets/base",
            "top": null,
            "grid_column": null,
            "overflow_y": null,
            "overflow_x": null,
            "grid_auto_flow": null,
            "grid_area": null,
            "grid_template_columns": null,
            "flex": null,
            "_model_name": "LayoutModel",
            "justify_items": null,
            "grid_row": null,
            "max_height": null,
            "align_content": null,
            "visibility": null,
            "align_self": null,
            "height": null,
            "min_height": null,
            "padding": null,
            "grid_auto_rows": null,
            "grid_gap": null,
            "max_width": null,
            "order": null,
            "_view_module_version": "1.2.0",
            "grid_template_areas": null,
            "object_position": null,
            "object_fit": null,
            "grid_auto_columns": null,
            "margin": null,
            "display": null,
            "left": null
          }
        },
        "87d7f13570114f17ac0d2fbf5c734670": {
          "model_module": "@jupyter-widgets/controls",
          "model_name": "DescriptionStyleModel",
          "state": {
            "_view_name": "StyleView",
            "_model_name": "DescriptionStyleModel",
            "description_width": "",
            "_view_module": "@jupyter-widgets/base",
            "_model_module_version": "1.5.0",
            "_view_count": null,
            "_view_module_version": "1.2.0",
            "_model_module": "@jupyter-widgets/controls"
          }
        },
        "fbf2efc115fe46ba9facd25cbd593dba": {
          "model_module": "@jupyter-widgets/base",
          "model_name": "LayoutModel",
          "state": {
            "_view_name": "LayoutView",
            "grid_template_rows": null,
            "right": null,
            "justify_content": null,
            "_view_module": "@jupyter-widgets/base",
            "overflow": null,
            "_model_module_version": "1.2.0",
            "_view_count": null,
            "flex_flow": null,
            "width": null,
            "min_width": null,
            "border": null,
            "align_items": null,
            "bottom": null,
            "_model_module": "@jupyter-widgets/base",
            "top": null,
            "grid_column": null,
            "overflow_y": null,
            "overflow_x": null,
            "grid_auto_flow": null,
            "grid_area": null,
            "grid_template_columns": null,
            "flex": null,
            "_model_name": "LayoutModel",
            "justify_items": null,
            "grid_row": null,
            "max_height": null,
            "align_content": null,
            "visibility": null,
            "align_self": null,
            "height": null,
            "min_height": null,
            "padding": null,
            "grid_auto_rows": null,
            "grid_gap": null,
            "max_width": null,
            "order": null,
            "_view_module_version": "1.2.0",
            "grid_template_areas": null,
            "object_position": null,
            "object_fit": null,
            "grid_auto_columns": null,
            "margin": null,
            "display": null,
            "left": null
          }
        },
        "db2f7f2809784334ad01e955d1f943dd": {
          "model_module": "@jupyter-widgets/controls",
          "model_name": "HBoxModel",
          "state": {
            "_view_name": "HBoxView",
            "_dom_classes": [],
            "_model_name": "HBoxModel",
            "_view_module": "@jupyter-widgets/controls",
            "_model_module_version": "1.5.0",
            "_view_count": null,
            "_view_module_version": "1.5.0",
            "box_style": "",
            "layout": "IPY_MODEL_0ecbf43ff0844ad789fd7a2e8be912c8",
            "_model_module": "@jupyter-widgets/controls",
            "children": [
              "IPY_MODEL_f9083957736540bbb848c7d455add299",
              "IPY_MODEL_56456337a7d8473aad12dd853b2427d8"
            ]
          }
        },
        "0ecbf43ff0844ad789fd7a2e8be912c8": {
          "model_module": "@jupyter-widgets/base",
          "model_name": "LayoutModel",
          "state": {
            "_view_name": "LayoutView",
            "grid_template_rows": null,
            "right": null,
            "justify_content": null,
            "_view_module": "@jupyter-widgets/base",
            "overflow": null,
            "_model_module_version": "1.2.0",
            "_view_count": null,
            "flex_flow": null,
            "width": null,
            "min_width": null,
            "border": null,
            "align_items": null,
            "bottom": null,
            "_model_module": "@jupyter-widgets/base",
            "top": null,
            "grid_column": null,
            "overflow_y": null,
            "overflow_x": null,
            "grid_auto_flow": null,
            "grid_area": null,
            "grid_template_columns": null,
            "flex": null,
            "_model_name": "LayoutModel",
            "justify_items": null,
            "grid_row": null,
            "max_height": null,
            "align_content": null,
            "visibility": null,
            "align_self": null,
            "height": null,
            "min_height": null,
            "padding": null,
            "grid_auto_rows": null,
            "grid_gap": null,
            "max_width": null,
            "order": null,
            "_view_module_version": "1.2.0",
            "grid_template_areas": null,
            "object_position": null,
            "object_fit": null,
            "grid_auto_columns": null,
            "margin": null,
            "display": null,
            "left": null
          }
        },
        "f9083957736540bbb848c7d455add299": {
          "model_module": "@jupyter-widgets/controls",
          "model_name": "FloatProgressModel",
          "state": {
            "_view_name": "ProgressView",
            "style": "IPY_MODEL_7f04ff1bd21e4744935b145f4c3d80d0",
            "_dom_classes": [],
            "description": "Downloading: 100%",
            "_model_name": "FloatProgressModel",
            "bar_style": "success",
            "max": 231508,
            "_view_module": "@jupyter-widgets/controls",
            "_model_module_version": "1.5.0",
            "value": 231508,
            "_view_count": null,
            "_view_module_version": "1.5.0",
            "orientation": "horizontal",
            "min": 0,
            "description_tooltip": null,
            "_model_module": "@jupyter-widgets/controls",
            "layout": "IPY_MODEL_2593a031a8254c24aecf5ef0ded41f59"
          }
        },
        "56456337a7d8473aad12dd853b2427d8": {
          "model_module": "@jupyter-widgets/controls",
          "model_name": "HTMLModel",
          "state": {
            "_view_name": "HTMLView",
            "style": "IPY_MODEL_bc7f940cab8245fbb0dc48090c17c89b",
            "_dom_classes": [],
            "description": "",
            "_model_name": "HTMLModel",
            "placeholder": "​",
            "_view_module": "@jupyter-widgets/controls",
            "_model_module_version": "1.5.0",
            "value": " 232k/232k [00:00&lt;00:00, 727kB/s]",
            "_view_count": null,
            "_view_module_version": "1.5.0",
            "description_tooltip": null,
            "_model_module": "@jupyter-widgets/controls",
            "layout": "IPY_MODEL_585989ae123e4de5847cbd7a39a07a97"
          }
        },
        "7f04ff1bd21e4744935b145f4c3d80d0": {
          "model_module": "@jupyter-widgets/controls",
          "model_name": "ProgressStyleModel",
          "state": {
            "_view_name": "StyleView",
            "_model_name": "ProgressStyleModel",
            "description_width": "initial",
            "_view_module": "@jupyter-widgets/base",
            "_model_module_version": "1.5.0",
            "_view_count": null,
            "_view_module_version": "1.2.0",
            "bar_color": null,
            "_model_module": "@jupyter-widgets/controls"
          }
        },
        "2593a031a8254c24aecf5ef0ded41f59": {
          "model_module": "@jupyter-widgets/base",
          "model_name": "LayoutModel",
          "state": {
            "_view_name": "LayoutView",
            "grid_template_rows": null,
            "right": null,
            "justify_content": null,
            "_view_module": "@jupyter-widgets/base",
            "overflow": null,
            "_model_module_version": "1.2.0",
            "_view_count": null,
            "flex_flow": null,
            "width": null,
            "min_width": null,
            "border": null,
            "align_items": null,
            "bottom": null,
            "_model_module": "@jupyter-widgets/base",
            "top": null,
            "grid_column": null,
            "overflow_y": null,
            "overflow_x": null,
            "grid_auto_flow": null,
            "grid_area": null,
            "grid_template_columns": null,
            "flex": null,
            "_model_name": "LayoutModel",
            "justify_items": null,
            "grid_row": null,
            "max_height": null,
            "align_content": null,
            "visibility": null,
            "align_self": null,
            "height": null,
            "min_height": null,
            "padding": null,
            "grid_auto_rows": null,
            "grid_gap": null,
            "max_width": null,
            "order": null,
            "_view_module_version": "1.2.0",
            "grid_template_areas": null,
            "object_position": null,
            "object_fit": null,
            "grid_auto_columns": null,
            "margin": null,
            "display": null,
            "left": null
          }
        },
        "bc7f940cab8245fbb0dc48090c17c89b": {
          "model_module": "@jupyter-widgets/controls",
          "model_name": "DescriptionStyleModel",
          "state": {
            "_view_name": "StyleView",
            "_model_name": "DescriptionStyleModel",
            "description_width": "",
            "_view_module": "@jupyter-widgets/base",
            "_model_module_version": "1.5.0",
            "_view_count": null,
            "_view_module_version": "1.2.0",
            "_model_module": "@jupyter-widgets/controls"
          }
        },
        "585989ae123e4de5847cbd7a39a07a97": {
          "model_module": "@jupyter-widgets/base",
          "model_name": "LayoutModel",
          "state": {
            "_view_name": "LayoutView",
            "grid_template_rows": null,
            "right": null,
            "justify_content": null,
            "_view_module": "@jupyter-widgets/base",
            "overflow": null,
            "_model_module_version": "1.2.0",
            "_view_count": null,
            "flex_flow": null,
            "width": null,
            "min_width": null,
            "border": null,
            "align_items": null,
            "bottom": null,
            "_model_module": "@jupyter-widgets/base",
            "top": null,
            "grid_column": null,
            "overflow_y": null,
            "overflow_x": null,
            "grid_auto_flow": null,
            "grid_area": null,
            "grid_template_columns": null,
            "flex": null,
            "_model_name": "LayoutModel",
            "justify_items": null,
            "grid_row": null,
            "max_height": null,
            "align_content": null,
            "visibility": null,
            "align_self": null,
            "height": null,
            "min_height": null,
            "padding": null,
            "grid_auto_rows": null,
            "grid_gap": null,
            "max_width": null,
            "order": null,
            "_view_module_version": "1.2.0",
            "grid_template_areas": null,
            "object_position": null,
            "object_fit": null,
            "grid_auto_columns": null,
            "margin": null,
            "display": null,
            "left": null
          }
        }
      }
    }
  },
  "cells": [
    {
      "cell_type": "markdown",
      "metadata": {
        "id": "view-in-github",
        "colab_type": "text"
      },
      "source": [
        "<a href=\"https://colab.research.google.com/github/parvathysarat/pretrained-language-models/blob/master/BERT_QA.ipynb\" target=\"_parent\"><img src=\"https://colab.research.google.com/assets/colab-badge.svg\" alt=\"Open In Colab\"/></a>"
      ]
    },
    {
      "cell_type": "code",
      "metadata": {
        "id": "NvwLU9SINaBE",
        "colab_type": "code",
        "colab": {
          "base_uri": "https://localhost:8080/",
          "height": 725,
          "referenced_widgets": [
            "e3f6e09da82446309a89cd333a9f40f5",
            "22d357ddaa224d29bb731eb2a7848bc7",
            "cf67a597fc46493da7042328c31105fd",
            "a8892a2e0bfe4975a4ecdda21cf5fea2",
            "73b9ab6029bb455d86776fa35246c412",
            "4271d5d657a34f9887c5000167fa0999",
            "0a1696dbef6f4deaab93589560b4c82f",
            "52f8ab11e6744e8295e6b2d80274db8e",
            "1cac3bf1fa24467f80b4a360eae486d7",
            "5e39bae8a6214001b12ec958a6ea78d4",
            "529d03e105d94b0fab8c7e0663e6b6d2",
            "5b1f1c81be3c4cd7bcefbdd714cd23cc",
            "391109ed29064c5b85b3630cec136182",
            "6a15708df9c241609e55e97bdcfdfe99",
            "87d7f13570114f17ac0d2fbf5c734670",
            "fbf2efc115fe46ba9facd25cbd593dba"
          ]
        },
        "outputId": "782e0275-3c4c-454e-9894-0e58a732b9cb"
      },
      "source": [
        "!pip install transformers\n",
        "from transformers import BertForQuestionAnswering\n",
        "model = BertForQuestionAnswering.from_pretrained('bert-large-uncased-whole-word-masking-finetuned-squad')"
      ],
      "execution_count": null,
      "outputs": [
        {
          "output_type": "stream",
          "text": [
            "Collecting transformers\n",
            "\u001b[?25l  Downloading https://files.pythonhosted.org/packages/27/3c/91ed8f5c4e7ef3227b4119200fc0ed4b4fd965b1f0172021c25701087825/transformers-3.0.2-py3-none-any.whl (769kB)\n",
            "\r\u001b[K     |▍                               | 10kB 3.9MB/s eta 0:00:01\r\u001b[K     |▉                               | 20kB 2.0MB/s eta 0:00:01\r\u001b[K     |█▎                              | 30kB 2.7MB/s eta 0:00:01\r\u001b[K     |█▊                              | 40kB 2.3MB/s eta 0:00:01\r\u001b[K     |██▏                             | 51kB 2.7MB/s eta 0:00:01\r\u001b[K     |██▋                             | 61kB 3.1MB/s eta 0:00:01\r\u001b[K     |███                             | 71kB 3.4MB/s eta 0:00:01\r\u001b[K     |███▍                            | 81kB 3.7MB/s eta 0:00:01\r\u001b[K     |███▉                            | 92kB 4.0MB/s eta 0:00:01\r\u001b[K     |████▎                           | 102kB 4.0MB/s eta 0:00:01\r\u001b[K     |████▊                           | 112kB 4.0MB/s eta 0:00:01\r\u001b[K     |█████▏                          | 122kB 4.0MB/s eta 0:00:01\r\u001b[K     |█████▌                          | 133kB 4.0MB/s eta 0:00:01\r\u001b[K     |██████                          | 143kB 4.0MB/s eta 0:00:01\r\u001b[K     |██████▍                         | 153kB 4.0MB/s eta 0:00:01\r\u001b[K     |██████▉                         | 163kB 4.0MB/s eta 0:00:01\r\u001b[K     |███████▎                        | 174kB 4.0MB/s eta 0:00:01\r\u001b[K     |███████▊                        | 184kB 4.0MB/s eta 0:00:01\r\u001b[K     |████████                        | 194kB 4.0MB/s eta 0:00:01\r\u001b[K     |████████▌                       | 204kB 4.0MB/s eta 0:00:01\r\u001b[K     |█████████                       | 215kB 4.0MB/s eta 0:00:01\r\u001b[K     |█████████▍                      | 225kB 4.0MB/s eta 0:00:01\r\u001b[K     |█████████▉                      | 235kB 4.0MB/s eta 0:00:01\r\u001b[K     |██████████▎                     | 245kB 4.0MB/s eta 0:00:01\r\u001b[K     |██████████▋                     | 256kB 4.0MB/s eta 0:00:01\r\u001b[K     |███████████                     | 266kB 4.0MB/s eta 0:00:01\r\u001b[K     |███████████▌                    | 276kB 4.0MB/s eta 0:00:01\r\u001b[K     |████████████                    | 286kB 4.0MB/s eta 0:00:01\r\u001b[K     |████████████▍                   | 296kB 4.0MB/s eta 0:00:01\r\u001b[K     |████████████▉                   | 307kB 4.0MB/s eta 0:00:01\r\u001b[K     |█████████████▏                  | 317kB 4.0MB/s eta 0:00:01\r\u001b[K     |█████████████▋                  | 327kB 4.0MB/s eta 0:00:01\r\u001b[K     |██████████████                  | 337kB 4.0MB/s eta 0:00:01\r\u001b[K     |██████████████▌                 | 348kB 4.0MB/s eta 0:00:01\r\u001b[K     |███████████████                 | 358kB 4.0MB/s eta 0:00:01\r\u001b[K     |███████████████▍                | 368kB 4.0MB/s eta 0:00:01\r\u001b[K     |███████████████▊                | 378kB 4.0MB/s eta 0:00:01\r\u001b[K     |████████████████▏               | 389kB 4.0MB/s eta 0:00:01\r\u001b[K     |████████████████▋               | 399kB 4.0MB/s eta 0:00:01\r\u001b[K     |█████████████████               | 409kB 4.0MB/s eta 0:00:01\r\u001b[K     |█████████████████▌              | 419kB 4.0MB/s eta 0:00:01\r\u001b[K     |██████████████████              | 430kB 4.0MB/s eta 0:00:01\r\u001b[K     |██████████████████▎             | 440kB 4.0MB/s eta 0:00:01\r\u001b[K     |██████████████████▊             | 450kB 4.0MB/s eta 0:00:01\r\u001b[K     |███████████████████▏            | 460kB 4.0MB/s eta 0:00:01\r\u001b[K     |███████████████████▋            | 471kB 4.0MB/s eta 0:00:01\r\u001b[K     |████████████████████            | 481kB 4.0MB/s eta 0:00:01\r\u001b[K     |████████████████████▌           | 491kB 4.0MB/s eta 0:00:01\r\u001b[K     |████████████████████▉           | 501kB 4.0MB/s eta 0:00:01\r\u001b[K     |█████████████████████▎          | 512kB 4.0MB/s eta 0:00:01\r\u001b[K     |█████████████████████▊          | 522kB 4.0MB/s eta 0:00:01\r\u001b[K     |██████████████████████▏         | 532kB 4.0MB/s eta 0:00:01\r\u001b[K     |██████████████████████▋         | 542kB 4.0MB/s eta 0:00:01\r\u001b[K     |███████████████████████         | 552kB 4.0MB/s eta 0:00:01\r\u001b[K     |███████████████████████▍        | 563kB 4.0MB/s eta 0:00:01\r\u001b[K     |███████████████████████▉        | 573kB 4.0MB/s eta 0:00:01\r\u001b[K     |████████████████████████▎       | 583kB 4.0MB/s eta 0:00:01\r\u001b[K     |████████████████████████▊       | 593kB 4.0MB/s eta 0:00:01\r\u001b[K     |█████████████████████████▏      | 604kB 4.0MB/s eta 0:00:01\r\u001b[K     |█████████████████████████▋      | 614kB 4.0MB/s eta 0:00:01\r\u001b[K     |██████████████████████████      | 624kB 4.0MB/s eta 0:00:01\r\u001b[K     |██████████████████████████▍     | 634kB 4.0MB/s eta 0:00:01\r\u001b[K     |██████████████████████████▉     | 645kB 4.0MB/s eta 0:00:01\r\u001b[K     |███████████████████████████▎    | 655kB 4.0MB/s eta 0:00:01\r\u001b[K     |███████████████████████████▊    | 665kB 4.0MB/s eta 0:00:01\r\u001b[K     |████████████████████████████▏   | 675kB 4.0MB/s eta 0:00:01\r\u001b[K     |████████████████████████████▌   | 686kB 4.0MB/s eta 0:00:01\r\u001b[K     |█████████████████████████████   | 696kB 4.0MB/s eta 0:00:01\r\u001b[K     |█████████████████████████████▍  | 706kB 4.0MB/s eta 0:00:01\r\u001b[K     |█████████████████████████████▉  | 716kB 4.0MB/s eta 0:00:01\r\u001b[K     |██████████████████████████████▎ | 727kB 4.0MB/s eta 0:00:01\r\u001b[K     |██████████████████████████████▊ | 737kB 4.0MB/s eta 0:00:01\r\u001b[K     |███████████████████████████████ | 747kB 4.0MB/s eta 0:00:01\r\u001b[K     |███████████████████████████████▌| 757kB 4.0MB/s eta 0:00:01\r\u001b[K     |████████████████████████████████| 768kB 4.0MB/s eta 0:00:01\r\u001b[K     |████████████████████████████████| 778kB 4.0MB/s \n",
            "\u001b[?25hRequirement already satisfied: numpy in /usr/local/lib/python3.6/dist-packages (from transformers) (1.18.5)\n",
            "Collecting tokenizers==0.8.1.rc1\n",
            "\u001b[?25l  Downloading https://files.pythonhosted.org/packages/40/d0/30d5f8d221a0ed981a186c8eb986ce1c94e3a6e87f994eae9f4aa5250217/tokenizers-0.8.1rc1-cp36-cp36m-manylinux1_x86_64.whl (3.0MB)\n",
            "\u001b[K     |████████████████████████████████| 3.0MB 22.7MB/s \n",
            "\u001b[?25hRequirement already satisfied: regex!=2019.12.17 in /usr/local/lib/python3.6/dist-packages (from transformers) (2019.12.20)\n",
            "Requirement already satisfied: requests in /usr/local/lib/python3.6/dist-packages (from transformers) (2.23.0)\n",
            "Requirement already satisfied: dataclasses; python_version < \"3.7\" in /usr/local/lib/python3.6/dist-packages (from transformers) (0.7)\n",
            "Requirement already satisfied: packaging in /usr/local/lib/python3.6/dist-packages (from transformers) (20.4)\n",
            "Collecting sentencepiece!=0.1.92\n",
            "\u001b[?25l  Downloading https://files.pythonhosted.org/packages/d4/a4/d0a884c4300004a78cca907a6ff9a5e9fe4f090f5d95ab341c53d28cbc58/sentencepiece-0.1.91-cp36-cp36m-manylinux1_x86_64.whl (1.1MB)\n",
            "\u001b[K     |████████████████████████████████| 1.1MB 40.2MB/s \n",
            "\u001b[?25hCollecting sacremoses\n",
            "\u001b[?25l  Downloading https://files.pythonhosted.org/packages/7d/34/09d19aff26edcc8eb2a01bed8e98f13a1537005d31e95233fd48216eed10/sacremoses-0.0.43.tar.gz (883kB)\n",
            "\u001b[K     |████████████████████████████████| 890kB 47.2MB/s \n",
            "\u001b[?25hRequirement already satisfied: filelock in /usr/local/lib/python3.6/dist-packages (from transformers) (3.0.12)\n",
            "Requirement already satisfied: tqdm>=4.27 in /usr/local/lib/python3.6/dist-packages (from transformers) (4.41.1)\n",
            "Requirement already satisfied: certifi>=2017.4.17 in /usr/local/lib/python3.6/dist-packages (from requests->transformers) (2020.6.20)\n",
            "Requirement already satisfied: chardet<4,>=3.0.2 in /usr/local/lib/python3.6/dist-packages (from requests->transformers) (3.0.4)\n",
            "Requirement already satisfied: urllib3!=1.25.0,!=1.25.1,<1.26,>=1.21.1 in /usr/local/lib/python3.6/dist-packages (from requests->transformers) (1.24.3)\n",
            "Requirement already satisfied: idna<3,>=2.5 in /usr/local/lib/python3.6/dist-packages (from requests->transformers) (2.10)\n",
            "Requirement already satisfied: six in /usr/local/lib/python3.6/dist-packages (from packaging->transformers) (1.15.0)\n",
            "Requirement already satisfied: pyparsing>=2.0.2 in /usr/local/lib/python3.6/dist-packages (from packaging->transformers) (2.4.7)\n",
            "Requirement already satisfied: click in /usr/local/lib/python3.6/dist-packages (from sacremoses->transformers) (7.1.2)\n",
            "Requirement already satisfied: joblib in /usr/local/lib/python3.6/dist-packages (from sacremoses->transformers) (0.16.0)\n",
            "Building wheels for collected packages: sacremoses\n",
            "  Building wheel for sacremoses (setup.py) ... \u001b[?25l\u001b[?25hdone\n",
            "  Created wheel for sacremoses: filename=sacremoses-0.0.43-cp36-none-any.whl size=893260 sha256=e24d2876fee743b2de988832409f3d880737ed6faa5380d9a113ed9b888a2391\n",
            "  Stored in directory: /root/.cache/pip/wheels/29/3c/fd/7ce5c3f0666dab31a50123635e6fb5e19ceb42ce38d4e58f45\n",
            "Successfully built sacremoses\n",
            "Installing collected packages: tokenizers, sentencepiece, sacremoses, transformers\n",
            "Successfully installed sacremoses-0.0.43 sentencepiece-0.1.91 tokenizers-0.8.1rc1 transformers-3.0.2\n"
          ],
          "name": "stdout"
        },
        {
          "output_type": "display_data",
          "data": {
            "application/vnd.jupyter.widget-view+json": {
              "model_id": "e3f6e09da82446309a89cd333a9f40f5",
              "version_minor": 0,
              "version_major": 2
            },
            "text/plain": [
              "HBox(children=(FloatProgress(value=0.0, description='Downloading', max=443.0, style=ProgressStyle(description_…"
            ]
          },
          "metadata": {
            "tags": []
          }
        },
        {
          "output_type": "stream",
          "text": [
            "\n"
          ],
          "name": "stdout"
        },
        {
          "output_type": "display_data",
          "data": {
            "application/vnd.jupyter.widget-view+json": {
              "model_id": "1cac3bf1fa24467f80b4a360eae486d7",
              "version_minor": 0,
              "version_major": 2
            },
            "text/plain": [
              "HBox(children=(FloatProgress(value=0.0, description='Downloading', max=1340675298.0, style=ProgressStyle(descr…"
            ]
          },
          "metadata": {
            "tags": []
          }
        },
        {
          "output_type": "stream",
          "text": [
            "\n"
          ],
          "name": "stdout"
        }
      ]
    },
    {
      "cell_type": "code",
      "metadata": {
        "id": "kFd-_UlcNiEq",
        "colab_type": "code",
        "colab": {
          "base_uri": "https://localhost:8080/",
          "height": 67,
          "referenced_widgets": [
            "db2f7f2809784334ad01e955d1f943dd",
            "0ecbf43ff0844ad789fd7a2e8be912c8",
            "f9083957736540bbb848c7d455add299",
            "56456337a7d8473aad12dd853b2427d8",
            "7f04ff1bd21e4744935b145f4c3d80d0",
            "2593a031a8254c24aecf5ef0ded41f59",
            "bc7f940cab8245fbb0dc48090c17c89b",
            "585989ae123e4de5847cbd7a39a07a97"
          ]
        },
        "outputId": "3fe15fdd-66f6-484f-c1a3-294543009b5d"
      },
      "source": [
        "from transformers import BertTokenizer\n",
        "\n",
        "tokenizer = BertTokenizer.from_pretrained('bert-large-uncased-whole-word-masking-finetuned-squad')"
      ],
      "execution_count": null,
      "outputs": [
        {
          "output_type": "display_data",
          "data": {
            "application/vnd.jupyter.widget-view+json": {
              "model_id": "db2f7f2809784334ad01e955d1f943dd",
              "version_minor": 0,
              "version_major": 2
            },
            "text/plain": [
              "HBox(children=(FloatProgress(value=0.0, description='Downloading', max=231508.0, style=ProgressStyle(descripti…"
            ]
          },
          "metadata": {
            "tags": []
          }
        },
        {
          "output_type": "stream",
          "text": [
            "\n"
          ],
          "name": "stdout"
        }
      ]
    },
    {
      "cell_type": "code",
      "metadata": {
        "id": "jKnWDnE4N0Hd",
        "colab_type": "code",
        "colab": {}
      },
      "source": [
        "import torch"
      ],
      "execution_count": null,
      "outputs": []
    },
    {
      "cell_type": "code",
      "metadata": {
        "id": "981XxDUvO21K",
        "colab_type": "code",
        "colab": {}
      },
      "source": [
        "question = \"How many parameters does BERT-large have?\"\n",
        "answer_text = \"BERT-large is really big... it has 24-layers and an embedding size of 1,024, for a total of 340M parameters! Altogether it is 1.34GB, so expect it to take a couple minutes to download to your Colab instance.\""
      ],
      "execution_count": null,
      "outputs": []
    },
    {
      "cell_type": "code",
      "metadata": {
        "id": "Ar3y4MXBTRL5",
        "colab_type": "code",
        "colab": {
          "base_uri": "https://localhost:8080/",
          "height": 72
        },
        "outputId": "9f7c798d-f908-4fa4-8e5b-5f665a06bfba"
      },
      "source": [
        "input_ids = tokenizer.encode(question, answer_text)\n",
        "print(f\"The input has a total of {len(input_ids)} tokens.\")\n",
        "print(input_ids)\n",
        "?tokenizer.encode"
      ],
      "execution_count": null,
      "outputs": [
        {
          "output_type": "stream",
          "text": [
            "The input has a total of 70 tokens.\n",
            "[101, 2129, 2116, 11709, 2515, 14324, 1011, 2312, 2031, 1029, 102, 14324, 1011, 2312, 2003, 2428, 2502, 1012, 1012, 1012, 2009, 2038, 2484, 1011, 9014, 1998, 2019, 7861, 8270, 4667, 2946, 1997, 1015, 1010, 6185, 2549, 1010, 2005, 1037, 2561, 1997, 16029, 2213, 11709, 999, 10462, 2009, 2003, 1015, 1012, 4090, 18259, 1010, 2061, 5987, 2009, 2000, 2202, 1037, 3232, 2781, 2000, 8816, 2000, 2115, 15270, 2497, 6013, 1012, 102]\n"
          ],
          "name": "stdout"
        }
      ]
    },
    {
      "cell_type": "code",
      "metadata": {
        "id": "c8M21dnLUFw1",
        "colab_type": "code",
        "colab": {
          "base_uri": "https://localhost:8080/",
          "height": 72
        },
        "outputId": "78b2d151-1934-4588-ab77-b4c67dcb42ba"
      },
      "source": [
        "tokens = tokenizer.convert_ids_to_tokens(input_ids)\n",
        "print(tokens)\n",
        "print(tokenizer.sep_token,\"token id :\",tokenizer.sep_token_id)"
      ],
      "execution_count": null,
      "outputs": [
        {
          "output_type": "stream",
          "text": [
            "['[CLS]', 'how', 'many', 'parameters', 'does', 'bert', '-', 'large', 'have', '?', '[SEP]', 'bert', '-', 'large', 'is', 'really', 'big', '.', '.', '.', 'it', 'has', '24', '-', 'layers', 'and', 'an', 'em', '##bed', '##ding', 'size', 'of', '1', ',', '02', '##4', ',', 'for', 'a', 'total', 'of', '340', '##m', 'parameters', '!', 'altogether', 'it', 'is', '1', '.', '34', '##gb', ',', 'so', 'expect', 'it', 'to', 'take', 'a', 'couple', 'minutes', 'to', 'download', 'to', 'your', 'cola', '##b', 'instance', '.', '[SEP]']\n",
            "[SEP] token id : 102\n"
          ],
          "name": "stdout"
        }
      ]
    },
    {
      "cell_type": "code",
      "metadata": {
        "id": "xwDS7UHKUq8K",
        "colab_type": "code",
        "colab": {}
      },
      "source": [
        "# get first index of [SEP] token\n",
        "# tokenizer.sep_token_id = '[SEP]'\n",
        "sep_index = input_ids.index(tokenizer.sep_token_id)\n",
        "\n",
        "num_seg_a = sep_index + 1\n",
        "\n",
        "num_seg_b = len(input_ids) - num_seg_a\n",
        "\n",
        "segment_ids = [0]*num_seg_a + [1]*num_seg_b\n",
        "\n",
        "# ensure there is a segment_id for every input token\n",
        "assert len(segment_ids) == len(input_ids)"
      ],
      "execution_count": null,
      "outputs": []
    },
    {
      "cell_type": "code",
      "metadata": {
        "id": "z_2pElYVa0Jn",
        "colab_type": "code",
        "colab": {
          "base_uri": "https://localhost:8080/",
          "height": 35
        },
        "outputId": "05e415dc-6ff3-4355-9314-fde19980387c"
      },
      "source": [
        "## feed our example into the BERT model\n",
        "start_scores, end_scores = model(torch.tensor([input_ids]),\n",
        "                                 token_type_ids = torch.tensor([segment_ids])) # segment_ids differentiate b/w q & a\n",
        "\n",
        "answer_start = torch.argmax(start_scores)\n",
        "answer_end = torch.argmax(end_scores)\n",
        "\n",
        "answer = ' '.join(tokens[answer_start:answer_end + 1])\n",
        "\n",
        "answer = tokens[answer_start]\n",
        "\n",
        "# Select the remaining answer tokens and join them with whitespace.\n",
        "for i in range(answer_start + 1, answer_end + 1):\n",
        "    \n",
        "    # If it's a subword token, then recombine it with the previous token.\n",
        "    if tokens[i][0:2] == '##':\n",
        "        answer += tokens[i][2:]\n",
        "    \n",
        "    # Otherwise, add a space then the token.\n",
        "    else:\n",
        "        answer += ' ' + tokens[i]\n",
        "\n",
        "print('Answer: \"' + answer + '\"')\n"
      ],
      "execution_count": null,
      "outputs": [
        {
          "output_type": "stream",
          "text": [
            "Answer: \"340m\"\n"
          ],
          "name": "stdout"
        }
      ]
    },
    {
      "cell_type": "markdown",
      "metadata": {
        "id": "LVY2pP7hBDfq",
        "colab_type": "text"
      },
      "source": [
        "### Start-word score visualization"
      ]
    },
    {
      "cell_type": "code",
      "metadata": {
        "id": "B8DoZonZAxaH",
        "colab_type": "code",
        "colab": {}
      },
      "source": [
        "import matplotlib.pyplot as plt\n",
        "import seaborn as sns\n",
        "sns.set(style='darkgrid')\n",
        "\n",
        "# Increase the plot size and font size.\n",
        "#sns.set(font_scale=1.5)\n",
        "\n",
        "plt.rcParams[\"figure.figsize\"] = (16,8)\n",
        "# Pull the scores out of PyTorch Tensors and convert them to 1D numpy arrays.\n",
        "s_scores = start_scores.detach().numpy().flatten()\n",
        "\n",
        "# We'll use the tokens as the x-axis labels. In order to do that, they all need\n",
        "# to be unique, so we'll add the token index to the end of each one.\n",
        "token_labels = []\n",
        "for (i, token) in enumerate(tokens):\n",
        "    token_labels.append('{:} - {:>2}'.format(token, i))\n",
        "\n",
        "def plot_start_scores(start_scores):\n",
        "\n",
        "  sns.set(font_scale=1.0)\n",
        "\n",
        "  plt.rcParams[\"figure.figsize\"] = (16,8)\n",
        "  # Pull the scores out of PyTorch Tensors and convert them to 1D numpy arrays.\n",
        "  s_scores = start_scores.detach().numpy().flatten()\n",
        "\n",
        "  # We'll use the tokens as the x-axis labels. In order to do that, they all need\n",
        "  # to be unique, so we'll add the token index to the end of each one.\n",
        "  token_labels = []\n",
        "  for (i, token) in enumerate(tokens):\n",
        "      token_labels.append('{:} - {:>2}'.format(token, i))  \n",
        "  # Use plot styling from seaborn.\n",
        "  # Create a barplot showing the start word score for all of the tokens.\n",
        "  ax = sns.barplot(x=token_labels, y=s_scores, ci=None)\n",
        "\n",
        "  # Turn the xlabels vertical.\n",
        "  ax.set_xticklabels(ax.get_xticklabels(), rotation=90, ha=\"center\")\n",
        "\n",
        "  # Turn on the vertical grid to help align words to scores.\n",
        "  ax.grid(True)\n",
        "\n",
        "  plt.title('Start Word Scores')\n",
        "\n",
        "  plt.show()"
      ],
      "execution_count": null,
      "outputs": []
    },
    {
      "cell_type": "markdown",
      "metadata": {
        "id": "_o8svWlCBH-r",
        "colab_type": "text"
      },
      "source": [
        "### End-word score visualization"
      ]
    },
    {
      "cell_type": "code",
      "metadata": {
        "id": "pcfXuy3nA2dC",
        "colab_type": "code",
        "colab": {}
      },
      "source": [
        "def plot_end_scores(end_scores):\n",
        "  e_scores = end_scores.detach().numpy().flatten()\n",
        "  sns.set(font_scale=1.0)\n",
        "\n",
        "  plt.rcParams[\"figure.figsize\"] = (16,8)\n",
        "  # Pull the scores out of PyTorch Tensors and convert them to 1D numpy arrays.\n",
        "  s_scores = start_scores.detach().numpy().flatten()\n",
        "\n",
        "  # We'll use the tokens as the x-axis labels. In order to do that, they all need\n",
        "  # to be unique, so we'll add the token index to the end of each one.\n",
        "  token_labels = []\n",
        "  for (i, token) in enumerate(tokens):\n",
        "      token_labels.append('{:} - {:>2}'.format(token, i))  \n",
        "\n",
        "  # Create a barplot showing the end word score for all of the tokens.\n",
        "  ax = sns.barplot(x=token_labels, y=e_scores, ci=None)\n",
        "\n",
        "  # Turn the xlabels vertical.\n",
        "  ax.set_xticklabels(ax.get_xticklabels(), rotation=90, ha=\"center\")\n",
        "\n",
        "  # Turn on the vertical grid to help align words to scores.\n",
        "  ax.grid(True)\n",
        "\n",
        "  plt.title('End Word Scores')\n",
        "\n",
        "  plt.show()"
      ],
      "execution_count": null,
      "outputs": []
    },
    {
      "cell_type": "markdown",
      "metadata": {
        "id": "jcLpW77NBndz",
        "colab_type": "text"
      },
      "source": [
        "## Modular QA Function"
      ]
    },
    {
      "cell_type": "code",
      "metadata": {
        "id": "bEQ7TLjEBZsl",
        "colab_type": "code",
        "colab": {}
      },
      "source": [
        "def answer_question(question, answer_text):\n",
        "    '''\n",
        "    Takes a `question` string and an `answer_text` string (which contains the\n",
        "    answer), and identifies the words within the `answer_text` that are the\n",
        "    answer. Prints them out.\n",
        "    '''\n",
        "    # ======== Tokenize ========\n",
        "    # Apply the tokenizer to the input text, treating them as a text-pair.\n",
        "    input_ids = tokenizer.encode(question, answer_text)\n",
        "\n",
        "    # Report how long the input sequence is.\n",
        "    print('Query has {:,} tokens.\\n'.format(len(input_ids)))\n",
        "\n",
        "    # ======== Set Segment IDs ========\n",
        "    # Search the input_ids for the first instance of the `[SEP]` token.\n",
        "    sep_index = input_ids.index(tokenizer.sep_token_id)\n",
        "\n",
        "    # The number of segment A tokens includes the [SEP] token istelf.\n",
        "    num_seg_a = sep_index + 1\n",
        "\n",
        "    # The remainder are segment B.\n",
        "    num_seg_b = len(input_ids) - num_seg_a\n",
        "\n",
        "    # Construct the list of 0s and 1s.\n",
        "    segment_ids = [0]*num_seg_a + [1]*num_seg_b\n",
        "\n",
        "    # There should be a segment_id for every input token.\n",
        "    assert len(segment_ids) == len(input_ids)\n",
        "\n",
        "    # ======== Evaluate ========\n",
        "    # Run our example question through the model.\n",
        "    start_scores, end_scores = model(torch.tensor([input_ids]), # The tokens representing our input text.\n",
        "                                    token_type_ids=torch.tensor([segment_ids])) # The segment IDs to differentiate question from answer_text\n",
        "\n",
        "    # ======== Reconstruct Answer ========\n",
        "    # Find the tokens with the highest `start` and `end` scores.\n",
        "    answer_start = torch.argmax(start_scores)\n",
        "    answer_end = torch.argmax(end_scores)\n",
        "\n",
        "    # Get the string versions of the input tokens.\n",
        "    tokens = tokenizer.convert_ids_to_tokens(input_ids)\n",
        "\n",
        "    # Start with the first token.\n",
        "    answer = tokens[answer_start]\n",
        "\n",
        "    # Select the remaining answer tokens and join them with whitespace.\n",
        "    for i in range(answer_start + 1, answer_end + 1):\n",
        "        \n",
        "        # If it's a subword token, then recombine it with the previous token.\n",
        "        if tokens[i][0:2] == '##':\n",
        "            answer += tokens[i][2:]\n",
        "        \n",
        "        # Otherwise, add a space then the token.\n",
        "        else:\n",
        "            answer += ' ' + tokens[i]\n",
        "\n",
        "    print('Answer: \"' + answer + '\"')\n",
        "    return start_scores, end_scores"
      ],
      "execution_count": null,
      "outputs": []
    },
    {
      "cell_type": "code",
      "metadata": {
        "id": "URO5zUMABpbB",
        "colab_type": "code",
        "colab": {
          "base_uri": "https://localhost:8080/",
          "height": 260
        },
        "outputId": "4f395165-ca30-499a-c7d7-609d00c3246b"
      },
      "source": [
        "import textwrap\n",
        "\n",
        "# wrap to 80 characters to print paragraph\n",
        "wrapper = textwrap.TextWrapper(width=80) \n",
        "\n",
        "bert_abstract = \"We introduce a new language representation model called BERT, which stands for Bidirectional Encoder Representations from Transformers. Unlike recent language representation models (Peters et al., 2018a; Radford et al., 2018), BERT is designed to pretrain deep bidirectional representations from unlabeled text by jointly conditioning on both left and right context in all layers. As a result, the pre-trained BERT model can be finetuned with just one additional output layer to create state-of-the-art models for a wide range of tasks, such as question answering and language inference, without substantial taskspecific architecture modifications. BERT is conceptually simple and empirically powerful. It obtains new state-of-the-art results on eleven natural language processing tasks, including pushing the GLUE score to 80.5% (7.7% point absolute improvement), MultiNLI accuracy to 86.7% (4.6% absolute improvement), SQuAD v1.1 question answering Test F1 to 93.2 (1.5 point absolute improvement) and SQuAD v2.0 Test F1 to 83.1 (5.1 point absolute improvement).\"\n",
        "\n",
        "print(wrapper.fill(bert_abstract))"
      ],
      "execution_count": null,
      "outputs": [
        {
          "output_type": "stream",
          "text": [
            "We introduce a new language representation model called BERT, which stands for\n",
            "Bidirectional Encoder Representations from Transformers. Unlike recent language\n",
            "representation models (Peters et al., 2018a; Radford et al., 2018), BERT is\n",
            "designed to pretrain deep bidirectional representations from unlabeled text by\n",
            "jointly conditioning on both left and right context in all layers. As a result,\n",
            "the pre-trained BERT model can be finetuned with just one additional output\n",
            "layer to create state-of-the-art models for a wide range of tasks, such as\n",
            "question answering and language inference, without substantial taskspecific\n",
            "architecture modifications. BERT is conceptually simple and empirically\n",
            "powerful. It obtains new state-of-the-art results on eleven natural language\n",
            "processing tasks, including pushing the GLUE score to 80.5% (7.7% point absolute\n",
            "improvement), MultiNLI accuracy to 86.7% (4.6% absolute improvement), SQuAD v1.1\n",
            "question answering Test F1 to 93.2 (1.5 point absolute improvement) and SQuAD\n",
            "v2.0 Test F1 to 83.1 (5.1 point absolute improvement).\n"
          ],
          "name": "stdout"
        }
      ]
    },
    {
      "cell_type": "code",
      "metadata": {
        "id": "ewe4Eq3DByDf",
        "colab_type": "code",
        "colab": {
          "base_uri": "https://localhost:8080/",
          "height": 69
        },
        "outputId": "29172ff6-c32d-49e3-8259-03e096c0ddd9"
      },
      "source": [
        "question = \"What does the 'B' in BERT stand for?\"\n",
        "\n",
        "start_scores, end_scores = answer_question(question, bert_abstract)"
      ],
      "execution_count": null,
      "outputs": [
        {
          "output_type": "stream",
          "text": [
            "Query has 258 tokens.\n",
            "\n",
            "Answer: \"bidirectional encoder representations from transformers\"\n"
          ],
          "name": "stdout"
        }
      ]
    },
    {
      "cell_type": "code",
      "metadata": {
        "id": "bVdbowjEB1kE",
        "colab_type": "code",
        "colab": {
          "base_uri": "https://localhost:8080/",
          "height": 191
        },
        "outputId": "f8f4f6a4-4a7a-4f2f-b611-409e5f46872c"
      },
      "source": [
        "alcon_abstract = \"Nestlé of Switzerland purchased Alcon in 1977.[6] Alcon expanded its manufacturing capability with new plants in South America and Europe and drastically increased its investment in research.In 1979, Alcon acquired Texas Pharmacal Company which became Dermatological Products of Texas (and is now DPT Laboratories).[7]In 1984, Alcon founded the Technical Excellence Award to promote achievements in R&D excellence and has awarded it to more than 100 recipients\"\n",
        "print(wrapper.fill(alcon_abstract))\n",
        "question1 = \"Technical Excellence Award is related to which company?\"\n",
        "question2 = \"Technical Excellence Award is related to which department?\"\n",
        "question3 = \"did nestle purchase alcon?\"\n",
        "\n",
        "start_scores, end_scores = answer_question(question2, alcon_abstract)\n"
      ],
      "execution_count": null,
      "outputs": [
        {
          "output_type": "stream",
          "text": [
            "Nestlé of Switzerland purchased Alcon in 1977.[6] Alcon expanded its\n",
            "manufacturing capability with new plants in South America and Europe and\n",
            "drastically increased its investment in research.In 1979, Alcon acquired Texas\n",
            "Pharmacal Company which became Dermatological Products of Texas (and is now DPT\n",
            "Laboratories).[7]In 1984, Alcon founded the Technical Excellence Award to\n",
            "promote achievements in R&D excellence and has awarded it to more than 100\n",
            "recipients\n",
            "Query has 106 tokens.\n",
            "\n",
            "Answer: \"r & d\"\n"
          ],
          "name": "stdout"
        }
      ]
    },
    {
      "cell_type": "markdown",
      "metadata": {
        "id": "FksynA-MApgI",
        "colab_type": "text"
      },
      "source": [
        "## Start-Word Scores and End-Word Scores Visualization"
      ]
    },
    {
      "cell_type": "code",
      "metadata": {
        "id": "db67mr20INrM",
        "colab_type": "code",
        "colab": {
          "base_uri": "https://localhost:8080/",
          "height": 1000
        },
        "outputId": "c6b71a04-a722-41ff-d84e-09c1eced4237"
      },
      "source": [
        "input_ids = tokenizer.encode(question2, alcon_abstract)\n",
        "tokens = tokenizer.convert_ids_to_tokens(input_ids)\n",
        "plot_start_scores(start_scores)\n",
        "plot_end_scores(end_scores)"
      ],
      "execution_count": null,
      "outputs": [
        {
          "output_type": "display_data",
          "data": {
            "image/png": "[encoded data removed]",
            "text/plain": [
              "<Figure size 1152x576 with 1 Axes>"
            ]
          },
          "metadata": {
            "tags": []
          }
        },
        {
          "output_type": "display_data",
          "data": {
            "image/png": "[encoded data removed]",
            "text/plain": [
              "<Figure size 1152x576 with 1 Axes>"
            ]
          },
          "metadata": {
            "tags": []
          }
        }
      ]
    },
    {
      "cell_type": "code",
      "metadata": {
        "id": "lqqv3JP6BKif",
        "colab_type": "code",
        "colab": {
          "base_uri": "https://localhost:8080/",
          "height": 260
        },
        "outputId": "1c71c46e-1412-4551-dd3c-200c4ffdffc6"
      },
      "source": [
        "start_scores\n",
        "end_scores"
      ],
      "execution_count": null,
      "outputs": [
        {
          "output_type": "execute_result",
          "data": {
            "text/plain": [
              "tensor([[-2.1636, -7.5413, -7.4006, -7.8631, -8.0613, -8.2961, -7.1588, -5.2837,\n",
              "         -6.1513, -7.5144, -2.1635, -6.9110, -5.2170, -6.7532, -4.2348, -6.8015,\n",
              "         -5.5878, -1.5015, -7.1437, -5.0768, -5.1618, -7.9909, -6.5064, -6.2809,\n",
              "         -6.5962, -2.9802, -7.4045, -6.5690, -2.0984, -4.3849, -7.0923, -7.2338,\n",
              "         -4.9248, -7.1759, -6.3385, -5.6738, -7.3311, -4.5000, -6.4535, -7.6764,\n",
              "         -7.6369, -7.2906, -6.2733, -6.6243,  3.9191, -1.4326, -7.6289, -5.7193,\n",
              "         -5.6030, -6.6667, -3.1933, -6.8369, -5.0653, -6.3346, -4.0976, -5.9048,\n",
              "         -4.7886, -5.0887, -7.0528, -7.5724, -5.8976, -4.5905, -2.2968, -4.6018,\n",
              "         -7.1884, -2.9025, -6.6103, -7.6969, -7.4056, -7.5413, -6.6056, -4.3172,\n",
              "         -4.0204, -4.9455, -3.6430, -7.5518, -5.9334, -5.0276, -7.5587, -3.9883,\n",
              "         -5.2927, -6.0647, -1.7225, -5.4103, -6.9707, -4.2654, -3.8842, -3.5808,\n",
              "         -7.7152, -6.3263, -5.9054, -6.1672,  0.4088, -2.1360,  9.0355,  3.8895,\n",
              "         -2.3529, -5.9844, -5.5702, -4.2619, -6.8475, -6.9161, -6.9400, -5.3474,\n",
              "         -2.5264, -2.1651]], grad_fn=<SqueezeBackward1>)"
            ]
          },
          "metadata": {
            "tags": []
          },
          "execution_count": 18
        }
      ]
    },
    {
      "cell_type": "code",
      "metadata": {
        "id": "_chOdcjwcnjY",
        "colab_type": "code",
        "colab": {}
      },
      "source": [
        ""
      ],
      "execution_count": null,
      "outputs": []
    }
  ]
}